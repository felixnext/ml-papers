{
 "cells": [
  {
   "attachments": {},
   "cell_type": "markdown",
   "metadata": {},
   "source": [
    "# Transformer Statistics\n",
    "\n",
    "Loads the training statistics from the `stats.json` file and plots them.\n",
    "\n",
    "Start by importing basics:"
   ]
  },
  {
   "cell_type": "code",
   "execution_count": 1,
   "metadata": {},
   "outputs": [
    {
     "name": "stderr",
     "output_type": "stream",
     "text": [
      "/opt/homebrew/Caskroom/miniconda/base/envs/research/lib/python3.11/site-packages/tqdm/auto.py:22: TqdmWarning: IProgress not found. Please update jupyter and ipywidgets. See https://ipywidgets.readthedocs.io/en/stable/user_install.html\n",
      "  from .autonotebook import tqdm as notebook_tqdm\n"
     ]
    },
    {
     "name": "stdout",
     "output_type": "stream",
     "text": [
      "transformer_light\n",
      "2023-03-07_16-54\n"
     ]
    }
   ],
   "source": [
    "import torch\n",
    "import utils\n",
    "\n",
    "code_files = ['.stats/transformer_light-2023-03-07_16-54.json']\n",
    "\n",
    "# load the data\n",
    "# TODO: extend this to multiple files later\n",
    "stats = utils.Stats.load(code_files[0])\n",
    "print(stats.model_name)\n",
    "print(stats.exp_name)"
   ]
  },
  {
   "cell_type": "code",
   "execution_count": 6,
   "metadata": {},
   "outputs": [
    {
     "name": "stdout",
     "output_type": "stream",
     "text": [
      "torch.Size([6, 8, 256, 256])\n",
      "torch.float32\n"
     ]
    }
   ],
   "source": [
    "# test to retrieve a single attention tensor\n",
    "ten = stats.test_attention[0][1].get_att_tensor()\n",
    "print(ten.shape)\n",
    "print(ten.dtype)"
   ]
  },
  {
   "attachments": {},
   "cell_type": "markdown",
   "metadata": {},
   "source": [
    "## Training Information\n",
    "\n",
    "First step is to load the training information from the stats and plot them (learning curves):"
   ]
  },
  {
   "cell_type": "code",
   "execution_count": null,
   "metadata": {},
   "outputs": [],
   "source": [
    "# list of stats files to load"
   ]
  },
  {
   "attachments": {},
   "cell_type": "markdown",
   "metadata": {},
   "source": [
    "## Activations\n",
    "\n",
    "Take sample data from the test corpus and plot the attention used at single steps"
   ]
  },
  {
   "cell_type": "code",
   "execution_count": null,
   "metadata": {},
   "outputs": [],
   "source": []
  },
  {
   "attachments": {},
   "cell_type": "markdown",
   "metadata": {},
   "source": [
    "## Embeddings\n",
    "\n",
    "Visualize the embedding space at different timeframes in the model"
   ]
  },
  {
   "cell_type": "code",
   "execution_count": null,
   "metadata": {},
   "outputs": [],
   "source": []
  }
 ],
 "metadata": {
  "kernelspec": {
   "display_name": "research",
   "language": "python",
   "name": "python3"
  },
  "language_info": {
   "codemirror_mode": {
    "name": "ipython",
    "version": 3
   },
   "file_extension": ".py",
   "mimetype": "text/x-python",
   "name": "python",
   "nbconvert_exporter": "python",
   "pygments_lexer": "ipython3",
   "version": "3.11.0"
  },
  "orig_nbformat": 4,
  "vscode": {
   "interpreter": {
    "hash": "7fe1a4422759eafe6868ccc54152cc839a79337f6f12136ad2d52cc24128f952"
   }
  }
 },
 "nbformat": 4,
 "nbformat_minor": 2
}
