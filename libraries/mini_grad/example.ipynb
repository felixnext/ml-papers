{
 "cells": [
  {
   "cell_type": "code",
   "execution_count": 2,
   "metadata": {},
   "outputs": [
    {
     "ename": "TypeError",
     "evalue": "unsupported operand type(s) for +: 'Value' and 'Value'",
     "output_type": "error",
     "traceback": [
      "\u001b[0;31m---------------------------------------------------------------------------\u001b[0m",
      "\u001b[0;31mTypeError\u001b[0m                                 Traceback (most recent call last)",
      "\u001b[1;32m/Users/felixnext/Code/github/ml-papers/libraries/mini_grad/example.ipynb Cell 1\u001b[0m in \u001b[0;36m<cell line: 8>\u001b[0;34m()\u001b[0m\n\u001b[1;32m      <a href='vscode-notebook-cell:/Users/felixnext/Code/github/ml-papers/libraries/mini_grad/example.ipynb#W1sZmlsZQ%3D%3D?line=5'>6</a>\u001b[0m a \u001b[39m=\u001b[39m Value(\u001b[39m2.0\u001b[39m, name\u001b[39m=\u001b[39m\u001b[39m\"\u001b[39m\u001b[39ma\u001b[39m\u001b[39m\"\u001b[39m)\n\u001b[1;32m      <a href='vscode-notebook-cell:/Users/felixnext/Code/github/ml-papers/libraries/mini_grad/example.ipynb#W1sZmlsZQ%3D%3D?line=6'>7</a>\u001b[0m b \u001b[39m=\u001b[39m Value(\u001b[39m3.0\u001b[39m, name\u001b[39m=\u001b[39m\u001b[39m\"\u001b[39m\u001b[39mb\u001b[39m\u001b[39m\"\u001b[39m)\n\u001b[0;32m----> <a href='vscode-notebook-cell:/Users/felixnext/Code/github/ml-papers/libraries/mini_grad/example.ipynb#W1sZmlsZQ%3D%3D?line=7'>8</a>\u001b[0m c \u001b[39m=\u001b[39m a \u001b[39m+\u001b[39;49m b; c\u001b[39m.\u001b[39mname \u001b[39m=\u001b[39m \u001b[39m\"\u001b[39m\u001b[39mc\u001b[39m\u001b[39m\"\u001b[39m\n\u001b[1;32m     <a href='vscode-notebook-cell:/Users/felixnext/Code/github/ml-papers/libraries/mini_grad/example.ipynb#W1sZmlsZQ%3D%3D?line=9'>10</a>\u001b[0m res \u001b[39m=\u001b[39m c\u001b[39m.\u001b[39mforward()\n\u001b[1;32m     <a href='vscode-notebook-cell:/Users/felixnext/Code/github/ml-papers/libraries/mini_grad/example.ipynb#W1sZmlsZQ%3D%3D?line=10'>11</a>\u001b[0m \u001b[39mprint\u001b[39m(res)\n",
      "\u001b[0;31mTypeError\u001b[0m: unsupported operand type(s) for +: 'Value' and 'Value'"
     ]
    }
   ],
   "source": [
    "from value import Parameter, Value\n",
    "import matplotlib.pyplot as plt\n",
    "%matplotlib inline\n",
    "\n",
    " # generate a simple example\n",
    "a = Value(2.0, name=\"a\")\n",
    "b = Value(3.0, name=\"b\")\n",
    "c = a + b; c.name = \"c\"\n",
    "\n",
    "res = c.forward()\n",
    "print(res)\n",
    "\n",
    "bb = c.backward()\n",
    "print(bb)\n",
    "\n",
    "# plot graph\n",
    "c.plot()"
   ]
  }
 ],
 "metadata": {
  "kernelspec": {
   "display_name": "research",
   "language": "python",
   "name": "python3"
  },
  "language_info": {
   "codemirror_mode": {
    "name": "ipython",
    "version": 3
   },
   "file_extension": ".py",
   "mimetype": "text/x-python",
   "name": "python",
   "nbconvert_exporter": "python",
   "pygments_lexer": "ipython3",
   "version": "3.10.4"
  },
  "orig_nbformat": 4,
  "vscode": {
   "interpreter": {
    "hash": "7fe1a4422759eafe6868ccc54152cc839a79337f6f12136ad2d52cc24128f952"
   }
  }
 },
 "nbformat": 4,
 "nbformat_minor": 2
}
