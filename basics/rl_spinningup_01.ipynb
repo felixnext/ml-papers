{
 "cells": [
  {
   "attachments": {},
   "cell_type": "markdown",
   "metadata": {},
   "source": [
    "# Spinning Up from Scratch\n",
    "\n",
    "This Notebook should outline the process of building RL algorithms from scratch based on tutorial in spinning up.\n",
    "\n",
    "The idea is to generate a bunch of training data (using gym). Then start at the basics and iterate through policy iteration step by step."
   ]
  },
  {
   "cell_type": "code",
   "execution_count": null,
   "metadata": {},
   "outputs": [],
   "source": []
  }
 ],
 "metadata": {
  "kernelspec": {
   "display_name": "research",
   "language": "python",
   "name": "python3"
  },
  "language_info": {
   "name": "python",
   "version": "3.11.0"
  },
  "orig_nbformat": 4,
  "vscode": {
   "interpreter": {
    "hash": "7fe1a4422759eafe6868ccc54152cc839a79337f6f12136ad2d52cc24128f952"
   }
  }
 },
 "nbformat": 4,
 "nbformat_minor": 2
}
