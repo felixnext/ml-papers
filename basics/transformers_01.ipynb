{
 "cells": [
  {
   "attachments": {},
   "cell_type": "markdown",
   "metadata": {},
   "source": [
    "# Transformer Model\n",
    "\n",
    "This tutorial will build a transformer model with a proper test-harness aroudn it.\n",
    "The model will be trained on top of tiny shakespear dataset."
   ]
  },
  {
   "cell_type": "code",
   "execution_count": 1,
   "metadata": {},
   "outputs": [
    {
     "name": "stderr",
     "output_type": "stream",
     "text": [
      "/opt/homebrew/Caskroom/miniconda/base/envs/research/lib/python3.11/site-packages/tqdm/auto.py:22: TqdmWarning: IProgress not found. Please update jupyter and ipywidgets. See https://ipywidgets.readthedocs.io/en/stable/user_install.html\n",
      "  from .autonotebook import tqdm as notebook_tqdm\n"
     ]
    }
   ],
   "source": [
    "import matplotlib.pyplot as plt\n",
    "import numpy as np\n",
    "import pandas as pd\n",
    "import random\n",
    "import seaborn as sns\n",
    "from sklearn.decomposition import PCA\n",
    "import torch\n",
    "from torch import nn\n",
    "from torch.nn import functional as F\n",
    "from torchviz import make_dot\n",
    "from typing import List, Callable, Dict, Any, Union, Optional, Tuple, Generator\n",
    "%matplotlib inline"
   ]
  },
  {
   "attachments": {},
   "cell_type": "markdown",
   "metadata": {},
   "source": [
    "**Load Data**\n",
    "\n",
    "First step is to load the data and explore it"
   ]
  },
  {
   "cell_type": "code",
   "execution_count": 6,
   "metadata": {},
   "outputs": [
    {
     "name": "stdout",
     "output_type": "stream",
     "text": [
      "Using device: mps\n",
      "Number of characters: 1115394\n",
      "Number of unique characters: 65\n",
      "Characters: ['\\n', ' ', '!', '$', '&', \"'\", ',', '-', '.', '3', ':', ';', '?', 'A', 'B', 'C', 'D', 'E', 'F', 'G', 'H', 'I', 'J', 'K', 'L', 'M', 'N', 'O', 'P', 'Q', 'R', 'S', 'T', 'U', 'V', 'W', 'X', 'Y', 'Z', 'a', 'b', 'c', 'd', 'e', 'f', 'g', 'h', 'i', 'j', 'k', 'l', 'm', 'n', 'o', 'p', 'q', 'r', 's', 't', 'u', 'v', 'w', 'x', 'y', 'z']\n",
      "Res: [46, 43, 50, 50, 53, 1, 61, 53, 56, 50, 42]\n"
     ]
    }
   ],
   "source": [
    "torch_device = torch.device(\"mps\" if torch.has_mps else (\"cuda\" if torch.cuda.is_available() else \"cpu\"))\n",
    "print(f\"Using device: {torch_device}\")\n",
    "\n",
    "# read the tiny shakespear dataset\n",
    "with open('data/tiny_shakespeare.txt', 'r') as f:\n",
    "    lines = f.read()\n",
    "\n",
    "# read some stats\n",
    "print(f\"Number of characters: {len(lines)}\")\n",
    "chars = sorted(list(set(lines)))\n",
    "print(f\"Number of unique characters: {len(chars)}\")\n",
    "print(f\"Characters: {chars}\")\n",
    "\n",
    "# build a dict\n",
    "char2idx = {ch: i for i, ch in enumerate(chars)}\n",
    "idx2char = {i: ch for i, ch in enumerate(chars)}\n",
    "def encode_tensor(text: str) -> torch.Tensor:\n",
    "    return torch.tensor([char2idx[ch] for ch in text])\n",
    "\n",
    "def encode(text: str) -> List[int]:\n",
    "    return [char2idx[ch] for ch in text]\n",
    "\n",
    "def decode_tensor(encoded: torch.Tensor) -> str:\n",
    "    # assert dim\n",
    "    encoded = encoded.squeeze()\n",
    "    if encoded.dim() == 2:\n",
    "        encoded = encoded.argmax(dim=1)\n",
    "    if encoded.dim() > 1:\n",
    "        raise ValueError(f\"Expected 1D or 2D tensor, got {encoded.dim()}D tensor\")\n",
    "    return ''.join([idx2char[idx] for idx in encoded.tolist()])\n",
    "\n",
    "def decode(encoded: List[int]) -> str:\n",
    "    return ''.join([idx2char[idx] for idx in encoded])\n",
    "\n",
    "assert decode(encode(\"hello world\")) == \"hello world\"\n",
    "assert decode_tensor(encode_tensor(\"hello world\")) == \"hello world\"\n",
    "print(f\"Res: {encode('hello world')}\")"
   ]
  },
  {
   "attachments": {},
   "cell_type": "markdown",
   "metadata": {},
   "source": [
    "## Detour: Different Encodings\n",
    "\n",
    "Looking at a few different encoding libraries, in particular:\n",
    "\n",
    "* bpe - low level open source encoder\n",
    "* tokenizers - HuggingFaces implementation of tokenizers\n",
    "* sentencepiece - Google's implementation of tokenizers\n",
    "* tiktoken - OpenAIs production ready implementation of tokenizers"
   ]
  },
  {
   "cell_type": "code",
   "execution_count": 3,
   "metadata": {},
   "outputs": [
    {
     "name": "stdout",
     "output_type": "stream",
     "text": [
      "Vocabulary size: 80\n",
      "['__sow', 'he', 'l', 'lo', '__eow', 'world', '__sow', 'he', 'l', 'lo', '__eow']\n",
      "\n",
      "\n",
      "\n",
      "Vocabulary size: 100\n",
      "['h', 'e', 'll', 'o ', 'w', 'or', 'l', 'd']\n",
      "[50, 47, 88, 82, 65, 81, 54, 46]\n",
      "Result: [31373, 995] - type: <class 'list'>\n"
     ]
    }
   ],
   "source": [
    "# do byte pair encoding\n",
    "from bpe import Encoder as BPEncoder\n",
    "\n",
    "bpe = BPEncoder(vocab_size=400)\n",
    "bpe.fit([lines])\n",
    "print(f\"Vocabulary size: {bpe.bpe_vocab_size}\")\n",
    "print(bpe.tokenize('hello world hello'))\n",
    "\n",
    "# try same with huggingface\n",
    "from tokenizers import Tokenizer\n",
    "from tokenizers.models import BPE\n",
    "from tokenizers.trainers import BpeTrainer\n",
    "\n",
    "tok = Tokenizer(BPE())\n",
    "trainer = BpeTrainer(vocab_size=100, special_tokens=[\"[UNK]\", \"[CLS]\", \"[SEP]\", \"[MASK]\"])\n",
    "tok.train([\"data/tiny_shakespeare.txt\"], trainer=trainer)\n",
    "print(f\"Vocabulary size: {tok.get_vocab_size()}\")\n",
    "print(tok.encode('hello world').tokens)\n",
    "print(tok.encode('hello world').ids)\n",
    "\n",
    "# use GPT2 tokenizer from tiktoken\n",
    "import tiktoken\n",
    "enc = tiktoken.get_encoding(\"gpt2\")\n",
    "# generates this automatically as a tensor\n",
    "res = enc.encode(\"hello world\")\n",
    "print(f\"Result: {res} - type: {type(res)}\")"
   ]
  },
  {
   "attachments": {},
   "cell_type": "markdown",
   "metadata": {},
   "source": [
    "Next building the dataset, by encoding everything into a tensor of integers and splitting into train test."
   ]
  },
  {
   "cell_type": "code",
   "execution_count": 7,
   "metadata": {},
   "outputs": [
    {
     "name": "stdout",
     "output_type": "stream",
     "text": [
      "Train data: 01003854\n",
      "Test data:  00111540\n"
     ]
    }
   ],
   "source": [
    "# encode the tensor\n",
    "data = encode_tensor(lines)\n",
    "\n",
    "# split the data\n",
    "split_idx = int(len(data) * 0.9)\n",
    "train_data = data[:split_idx]\n",
    "test_data = data[split_idx:]\n",
    "\n",
    "print(f\"Train data: {train_data.shape[0]:08}\")\n",
    "print(f\"Test data:  {test_data.shape[0]:08}\")"
   ]
  },
  {
   "cell_type": "code",
   "execution_count": 4,
   "metadata": {},
   "outputs": [
    {
     "name": "stdout",
     "output_type": "stream",
     "text": [
      "--- Batch ---\n"
     ]
    },
    {
     "ename": "NameError",
     "evalue": "name 'train_data' is not defined",
     "output_type": "error",
     "traceback": [
      "\u001b[0;31m---------------------------------------------------------------------------\u001b[0m",
      "\u001b[0;31mNameError\u001b[0m                                 Traceback (most recent call last)",
      "Cell \u001b[0;32mIn[4], line 56\u001b[0m\n\u001b[1;32m     53\u001b[0m     \u001b[39mreturn\u001b[39;00m torch\u001b[39m.\u001b[39mstack([tpl[\u001b[39m0\u001b[39m] \u001b[39mfor\u001b[39;00m tpl \u001b[39min\u001b[39;00m res])\u001b[39m.\u001b[39mto(torch_device), torch\u001b[39m.\u001b[39mstack([tpl[\u001b[39m1\u001b[39m] \u001b[39mfor\u001b[39;00m tpl \u001b[39min\u001b[39;00m res])\u001b[39m.\u001b[39mto(torch_device)\n\u001b[1;32m     55\u001b[0m \u001b[39mprint\u001b[39m(\u001b[39m\"\u001b[39m\u001b[39m--- Batch ---\u001b[39m\u001b[39m\"\u001b[39m)\n\u001b[0;32m---> 56\u001b[0m x, y \u001b[39m=\u001b[39m random_batch(train_data, block_size, batch_size)\n\u001b[1;32m     57\u001b[0m \u001b[39mprint\u001b[39m(\u001b[39mf\u001b[39m\u001b[39m\"\u001b[39m\u001b[39mX: \u001b[39m\u001b[39m{\u001b[39;00mx\u001b[39m.\u001b[39mshape\u001b[39m}\u001b[39;00m\u001b[39m\"\u001b[39m)\n\u001b[1;32m     58\u001b[0m \u001b[39mprint\u001b[39m(\u001b[39mf\u001b[39m\u001b[39m\"\u001b[39m\u001b[39mY: \u001b[39m\u001b[39m{\u001b[39;00my\u001b[39m.\u001b[39mshape\u001b[39m}\u001b[39;00m\u001b[39m\"\u001b[39m)\n",
      "\u001b[0;31mNameError\u001b[0m: name 'train_data' is not defined"
     ]
    }
   ],
   "source": [
    "# define the blocksize (length of context)\n",
    "batch_size = 4\n",
    "block_size = 8\n",
    "\n",
    "# build a batch generator - this should sample random section from the text\n",
    "def random_batch(data: torch.Tensor, block_size: int, batch_size: int) -> Tuple[torch.Tensor, torch.Tensor]:\n",
    "    '''Retrieves a random batch from the provided data'''\n",
    "    # check the input data\n",
    "    if data.dim() != 1:\n",
    "        raise ValueError(f\"Expected 1D tensor, got {data.dim()}D tensor\")\n",
    "\n",
    "    # create a random starting point\n",
    "    # note: we need to have one last char for output\n",
    "    # note: also need to have block_size difference\n",
    "    start_idx = torch.randint(0, len(data) - block_size - 1, (batch_size,))\n",
    "\n",
    "    # retrieve the content length (batchsi)\n",
    "    content = torch.stack([data[i:i + block_size + 1] for i in start_idx])\n",
    "    x = content[:, :-1]\n",
    "    y = content[:, 1:]\n",
    "    return x, y\n",
    "\n",
    "def walk_batch(x: torch.Tensor, y: torch.Tensor) -> Generator[Tuple[torch.Tensor, torch.Tensor], None, None]:\n",
    "    '''Walk the batch by creating a list of x, y pairs'''\n",
    "    # perform a size check\n",
    "    if x.shape != y.shape:\n",
    "        raise ValueError(f\"Expected x and y to have same shape, got {x.shape} and {y.shape}\")\n",
    "    if x.dim() != 2:\n",
    "        raise ValueError(f\"Expected x and y to be 2D, got {x.dim()}D and {y.dim()}D\")\n",
    "    \n",
    "    # retrieve actual batch size and block size\n",
    "    batch_size, block_size = x.shape\n",
    "\n",
    "    # walk the batch\n",
    "    for b in range(batch_size):\n",
    "        for i in range(block_size):\n",
    "            bx = x[b, :i+1]\n",
    "            yield bx, y[b, i]\n",
    "\n",
    "def padded_walk_batch(x: torch.Tensor, y: torch.Tensor, pad: int = 0) -> Tuple[torch.Tensor, torch.Tensor]:\n",
    "    '''Pads elements to max block_size and '''\n",
    "    # perform a size check\n",
    "    if x.shape != y.shape:\n",
    "        raise ValueError(f\"Expected x and y to have same shape, got {x.shape} and {y.shape}\")\n",
    "    if x.dim() != 2:\n",
    "        raise ValueError(f\"Expected x and y to be 2D, got {x.dim()}D and {y.dim()}D\")\n",
    "    \n",
    "    # retrieve actual batch size and block size\n",
    "    _, block_size = x.shape\n",
    "\n",
    "    _pad = lambda x: F.pad(x, (block_size - x.shape[-1], 0), mode=\"constant\", value=pad) \n",
    "    res = [(_pad(tx), ty) for tx, ty in walk_batch(x, y)]\n",
    "    return torch.stack([tpl[0] for tpl in res]).to(torch_device), torch.stack([tpl[1] for tpl in res]).to(torch_device)\n",
    "\n",
    "print(\"--- Batch ---\")\n",
    "x, y = random_batch(train_data, block_size, batch_size)\n",
    "print(f\"X: {x.shape}\")\n",
    "print(f\"Y: {y.shape}\")\n",
    "print(x)\n",
    "print(\"--- Walk ---\")\n",
    "gen = walk_batch(x, y)\n",
    "for wx, wy in gen:\n",
    "    print(f\"{wx} ({wx.shape}) -> {wy} ({wy.shape})\")\n",
    "print(\"--- Padded ---\")\n",
    "px, py = padded_walk_batch(x, y)\n",
    "print(f\"X: {px.shape}\")\n",
    "print(f\"Y: {py.shape}\")\n",
    "print(px)"
   ]
  },
  {
   "cell_type": "code",
   "execution_count": 6,
   "metadata": {},
   "outputs": [
    {
     "name": "stdout",
     "output_type": "stream",
     "text": [
      "tensor([[1., 0., 0., 0.],\n",
      "        [1., 1., 0., 0.],\n",
      "        [1., 1., 1., 0.],\n",
      "        [1., 1., 1., 1.]])\n",
      "tensor([[ 0.,  1.,  2.,  3.],\n",
      "        [ 4.,  5.,  6.,  7.],\n",
      "        [ 8.,  9., 10., 11.],\n",
      "        [12., 13., 14., 15.]])\n"
     ]
    },
    {
     "data": {
      "text/plain": [
       "tensor([[ 0.,  1.,  2.,  3.],\n",
       "        [ 4.,  6.,  8., 10.],\n",
       "        [12., 15., 18., 21.],\n",
       "        [24., 28., 32., 36.]])"
      ]
     },
     "execution_count": 6,
     "metadata": {},
     "output_type": "execute_result"
    }
   ],
   "source": [
    "# performance optimizations through tril\n",
    "tr = torch.tril(torch.ones((4, 4), dtype=torch.float32))\n",
    "print(tr)\n",
    "ar = torch.arange(16, dtype=torch.float32).view(4, 4)\n",
    "print(ar)\n",
    "tr @ ar"
   ]
  },
  {
   "cell_type": "code",
   "execution_count": 7,
   "metadata": {},
   "outputs": [
    {
     "name": "stdout",
     "output_type": "stream",
     "text": [
      "torch.Size([4, 8, 2])\n",
      "tensor([[-0.4995, -0.2369],\n",
      "        [-0.0235,  0.1478],\n",
      "        [ 1.2071, -0.5379],\n",
      "        [ 1.7443, -1.5521],\n",
      "        [ 1.5463, -0.0092],\n",
      "        [-1.0153,  0.9300],\n",
      "        [ 1.0207, -0.9532],\n",
      "        [-1.5133, -1.3043]])\n",
      "torch.Size([4, 8, 2])\n",
      "tensor([[-0.4995, -0.2369],\n",
      "        [-0.2615, -0.0446],\n",
      "        [ 0.2280, -0.2090],\n",
      "        [ 0.6071, -0.5448],\n",
      "        [ 0.7949, -0.4377],\n",
      "        [ 0.4932, -0.2097],\n",
      "        [ 0.5686, -0.3159],\n",
      "        [ 0.3083, -0.4395]])\n",
      "torch.Size([4, 8, 2])\n",
      "tensor([[-0.4995, -0.2369],\n",
      "        [-0.2615, -0.0446],\n",
      "        [ 0.2280, -0.2090],\n",
      "        [ 0.6071, -0.5448],\n",
      "        [ 0.7949, -0.4377],\n",
      "        [ 0.4932, -0.2097],\n",
      "        [ 0.5686, -0.3159],\n",
      "        [ 0.3083, -0.4395]])\n",
      "Data is same: True\n",
      "torch.Size([4, 8, 2])\n",
      "tensor([[-0.4995, -0.2369],\n",
      "        [-0.2615, -0.0446],\n",
      "        [ 0.2280, -0.2090],\n",
      "        [ 0.6071, -0.5448],\n",
      "        [ 0.7949, -0.4377],\n",
      "        [ 0.4932, -0.2097],\n",
      "        [ 0.5686, -0.3159],\n",
      "        [ 0.3083, -0.4395]])\n",
      "Data is same: True\n"
     ]
    }
   ],
   "source": [
    "# creating a tensor for self-attention of size (BATCH, TIME, CHANNELS)\n",
    "# Batch - number of data examples\n",
    "# Time - Context length we can look at\n",
    "# Channels - Number of features used\n",
    "sample = torch.randn(4, 8, 2)\n",
    "print(sample.shape)\n",
    "print(sample[0])\n",
    "\n",
    "# create an average up to the n-th time step (for a single example we could just use broadcasting on the batch dimension)\n",
    "B, T, C = sample.shape\n",
    "manual = torch.zeros((B, T, C))\n",
    "for b in range(B):\n",
    "    for t in range(T):\n",
    "        # take the element from batch b and up to time t and mean it out\n",
    "        manual[b, t] = sample[b, :t+1].mean(dim=0)\n",
    "print(manual.shape)\n",
    "print(manual[0])\n",
    "\n",
    "# compute it but way more efficient\n",
    "tril = torch.tril(torch.ones((T, T), dtype=torch.float32))\n",
    "#print(tril)\n",
    "tril = tril / torch.arange(1, T+1, dtype=torch.float32).view(T, 1)\n",
    "#print(tril)\n",
    "auto1 = tril @ sample\n",
    "print(auto1.shape)\n",
    "print(auto1[0])\n",
    "\n",
    "print(f\"Data is same: {torch.allclose(manual, auto1)}\")\n",
    "\n",
    "# can do the same with softmax\n",
    "tril_mask = torch.tril(torch.ones((T, T), dtype=torch.float32))\n",
    "tril2 = torch.zeros((T, T), dtype=torch.float32)\n",
    "tril2 = tril2.masked_fill(tril_mask == 0, float('-inf'))\n",
    "tril2 = F.softmax(tril2, dim=-1)\n",
    "auto2 = tril2 @ sample\n",
    "print(auto2.shape)\n",
    "print(auto2[0])\n",
    "\n",
    "print(f\"Data is same: {torch.allclose(manual, auto2)}\")"
   ]
  },
  {
   "attachments": {},
   "cell_type": "markdown",
   "metadata": {},
   "source": [
    "Note that this will not give us a full training batch to work with\n",
    "\n",
    "**BiGram Language Model**\n",
    "\n",
    "This model has a content length of just one, so it can only predict the next char based on the previous one.\n",
    "This is done through an embedding matrix."
   ]
  },
  {
   "cell_type": "code",
   "execution_count": 8,
   "metadata": {},
   "outputs": [
    {
     "data": {
      "text/plain": [
       "[0, 0, 0, 0, 0, 1, 2, 3]"
      ]
     },
     "execution_count": 8,
     "metadata": {},
     "output_type": "execute_result"
    }
   ],
   "source": [
    "([0] * block_size + [1, 2, 3])[-block_size:]"
   ]
  },
  {
   "cell_type": "code",
   "execution_count": 8,
   "metadata": {},
   "outputs": [
    {
     "ename": "KeyboardInterrupt",
     "evalue": "",
     "output_type": "error",
     "traceback": [
      "\u001b[0;31m---------------------------------------------------------------------------\u001b[0m",
      "\u001b[0;31mKeyboardInterrupt\u001b[0m                         Traceback (most recent call last)",
      "Cell \u001b[0;32mIn[8], line 121\u001b[0m\n\u001b[1;32m    118\u001b[0m     test_loss \u001b[39m=\u001b[39m model\u001b[39m.\u001b[39mloss(tx, ty)\n\u001b[1;32m    119\u001b[0m     \u001b[39mprint\u001b[39m(\u001b[39mf\u001b[39m\u001b[39m\"\u001b[39m\u001b[39mTest Loss: \u001b[39m\u001b[39m{\u001b[39;00mtest_loss\u001b[39m}\u001b[39;00m\u001b[39m\"\u001b[39m)\n\u001b[0;32m--> 121\u001b[0m train_model(model, \u001b[39m.1\u001b[39;49m)\n",
      "Cell \u001b[0;32mIn[8], line 114\u001b[0m, in \u001b[0;36mtrain_model\u001b[0;34m(model, lr, batches)\u001b[0m\n\u001b[1;32m    112\u001b[0m     ax\u001b[39m.\u001b[39mplot(epoch, loss\u001b[39m.\u001b[39mitem(), \u001b[39m\"\u001b[39m\u001b[39mr.\u001b[39m\u001b[39m\"\u001b[39m)\n\u001b[1;32m    113\u001b[0m     clear_output(wait\u001b[39m=\u001b[39m\u001b[39mTrue\u001b[39;00m)\n\u001b[0;32m--> 114\u001b[0m     display(fig)\n\u001b[1;32m    116\u001b[0m \u001b[39m# generate test loss\u001b[39;00m\n\u001b[1;32m    117\u001b[0m tx, ty \u001b[39m=\u001b[39m random_batch(test_data, block_size, \u001b[39m100\u001b[39m)\n",
      "File \u001b[0;32m/opt/homebrew/Caskroom/miniconda/base/envs/research/lib/python3.11/site-packages/IPython/core/display_functions.py:298\u001b[0m, in \u001b[0;36mdisplay\u001b[0;34m(include, exclude, metadata, transient, display_id, raw, clear, *objs, **kwargs)\u001b[0m\n\u001b[1;32m    296\u001b[0m     publish_display_data(data\u001b[39m=\u001b[39mobj, metadata\u001b[39m=\u001b[39mmetadata, \u001b[39m*\u001b[39m\u001b[39m*\u001b[39mkwargs)\n\u001b[1;32m    297\u001b[0m \u001b[39melse\u001b[39;00m:\n\u001b[0;32m--> 298\u001b[0m     format_dict, md_dict \u001b[39m=\u001b[39m \u001b[39mformat\u001b[39;49m(obj, include\u001b[39m=\u001b[39;49minclude, exclude\u001b[39m=\u001b[39;49mexclude)\n\u001b[1;32m    299\u001b[0m     \u001b[39mif\u001b[39;00m \u001b[39mnot\u001b[39;00m format_dict:\n\u001b[1;32m    300\u001b[0m         \u001b[39m# nothing to display (e.g. _ipython_display_ took over)\u001b[39;00m\n\u001b[1;32m    301\u001b[0m         \u001b[39mcontinue\u001b[39;00m\n",
      "File \u001b[0;32m/opt/homebrew/Caskroom/miniconda/base/envs/research/lib/python3.11/site-packages/IPython/core/formatters.py:177\u001b[0m, in \u001b[0;36mDisplayFormatter.format\u001b[0;34m(self, obj, include, exclude)\u001b[0m\n\u001b[1;32m    175\u001b[0m md \u001b[39m=\u001b[39m \u001b[39mNone\u001b[39;00m\n\u001b[1;32m    176\u001b[0m \u001b[39mtry\u001b[39;00m:\n\u001b[0;32m--> 177\u001b[0m     data \u001b[39m=\u001b[39m formatter(obj)\n\u001b[1;32m    178\u001b[0m \u001b[39mexcept\u001b[39;00m:\n\u001b[1;32m    179\u001b[0m     \u001b[39m# FIXME: log the exception\u001b[39;00m\n\u001b[1;32m    180\u001b[0m     \u001b[39mraise\u001b[39;00m\n",
      "File \u001b[0;32m/opt/homebrew/Caskroom/miniconda/base/envs/research/lib/python3.11/site-packages/decorator.py:232\u001b[0m, in \u001b[0;36mdecorate.<locals>.fun\u001b[0;34m(*args, **kw)\u001b[0m\n\u001b[1;32m    230\u001b[0m \u001b[39mif\u001b[39;00m \u001b[39mnot\u001b[39;00m kwsyntax:\n\u001b[1;32m    231\u001b[0m     args, kw \u001b[39m=\u001b[39m fix(args, kw, sig)\n\u001b[0;32m--> 232\u001b[0m \u001b[39mreturn\u001b[39;00m caller(func, \u001b[39m*\u001b[39;49m(extras \u001b[39m+\u001b[39;49m args), \u001b[39m*\u001b[39;49m\u001b[39m*\u001b[39;49mkw)\n",
      "File \u001b[0;32m/opt/homebrew/Caskroom/miniconda/base/envs/research/lib/python3.11/site-packages/IPython/core/formatters.py:221\u001b[0m, in \u001b[0;36mcatch_format_error\u001b[0;34m(method, self, *args, **kwargs)\u001b[0m\n\u001b[1;32m    219\u001b[0m \u001b[39m\u001b[39m\u001b[39m\"\"\"show traceback on failed format call\"\"\"\u001b[39;00m\n\u001b[1;32m    220\u001b[0m \u001b[39mtry\u001b[39;00m:\n\u001b[0;32m--> 221\u001b[0m     r \u001b[39m=\u001b[39m method(\u001b[39mself\u001b[39;49m, \u001b[39m*\u001b[39;49margs, \u001b[39m*\u001b[39;49m\u001b[39m*\u001b[39;49mkwargs)\n\u001b[1;32m    222\u001b[0m \u001b[39mexcept\u001b[39;00m \u001b[39mNotImplementedError\u001b[39;00m:\n\u001b[1;32m    223\u001b[0m     \u001b[39m# don't warn on NotImplementedErrors\u001b[39;00m\n\u001b[1;32m    224\u001b[0m     \u001b[39mreturn\u001b[39;00m \u001b[39mself\u001b[39m\u001b[39m.\u001b[39m_check_return(\u001b[39mNone\u001b[39;00m, args[\u001b[39m0\u001b[39m])\n",
      "File \u001b[0;32m/opt/homebrew/Caskroom/miniconda/base/envs/research/lib/python3.11/site-packages/IPython/core/formatters.py:338\u001b[0m, in \u001b[0;36mBaseFormatter.__call__\u001b[0;34m(self, obj)\u001b[0m\n\u001b[1;32m    336\u001b[0m     \u001b[39mpass\u001b[39;00m\n\u001b[1;32m    337\u001b[0m \u001b[39melse\u001b[39;00m:\n\u001b[0;32m--> 338\u001b[0m     \u001b[39mreturn\u001b[39;00m printer(obj)\n\u001b[1;32m    339\u001b[0m \u001b[39m# Finally look for special method names\u001b[39;00m\n\u001b[1;32m    340\u001b[0m method \u001b[39m=\u001b[39m get_real_method(obj, \u001b[39mself\u001b[39m\u001b[39m.\u001b[39mprint_method)\n",
      "File \u001b[0;32m/opt/homebrew/Caskroom/miniconda/base/envs/research/lib/python3.11/site-packages/IPython/core/pylabtools.py:152\u001b[0m, in \u001b[0;36mprint_figure\u001b[0;34m(fig, fmt, bbox_inches, base64, **kwargs)\u001b[0m\n\u001b[1;32m    149\u001b[0m     \u001b[39mfrom\u001b[39;00m \u001b[39mmatplotlib\u001b[39;00m\u001b[39m.\u001b[39;00m\u001b[39mbackend_bases\u001b[39;00m \u001b[39mimport\u001b[39;00m FigureCanvasBase\n\u001b[1;32m    150\u001b[0m     FigureCanvasBase(fig)\n\u001b[0;32m--> 152\u001b[0m fig\u001b[39m.\u001b[39;49mcanvas\u001b[39m.\u001b[39;49mprint_figure(bytes_io, \u001b[39m*\u001b[39;49m\u001b[39m*\u001b[39;49mkw)\n\u001b[1;32m    153\u001b[0m data \u001b[39m=\u001b[39m bytes_io\u001b[39m.\u001b[39mgetvalue()\n\u001b[1;32m    154\u001b[0m \u001b[39mif\u001b[39;00m fmt \u001b[39m==\u001b[39m \u001b[39m'\u001b[39m\u001b[39msvg\u001b[39m\u001b[39m'\u001b[39m:\n",
      "File \u001b[0;32m/opt/homebrew/Caskroom/miniconda/base/envs/research/lib/python3.11/site-packages/matplotlib/backend_bases.py:2318\u001b[0m, in \u001b[0;36mFigureCanvasBase.print_figure\u001b[0;34m(self, filename, dpi, facecolor, edgecolor, orientation, format, bbox_inches, pad_inches, bbox_extra_artists, backend, **kwargs)\u001b[0m\n\u001b[1;32m   2316\u001b[0m \u001b[39mif\u001b[39;00m bbox_inches:\n\u001b[1;32m   2317\u001b[0m     \u001b[39mif\u001b[39;00m bbox_inches \u001b[39m==\u001b[39m \u001b[39m\"\u001b[39m\u001b[39mtight\u001b[39m\u001b[39m\"\u001b[39m:\n\u001b[0;32m-> 2318\u001b[0m         bbox_inches \u001b[39m=\u001b[39m \u001b[39mself\u001b[39;49m\u001b[39m.\u001b[39;49mfigure\u001b[39m.\u001b[39;49mget_tightbbox(\n\u001b[1;32m   2319\u001b[0m             renderer, bbox_extra_artists\u001b[39m=\u001b[39;49mbbox_extra_artists)\n\u001b[1;32m   2320\u001b[0m         \u001b[39mif\u001b[39;00m pad_inches \u001b[39mis\u001b[39;00m \u001b[39mNone\u001b[39;00m:\n\u001b[1;32m   2321\u001b[0m             pad_inches \u001b[39m=\u001b[39m rcParams[\u001b[39m'\u001b[39m\u001b[39msavefig.pad_inches\u001b[39m\u001b[39m'\u001b[39m]\n",
      "File \u001b[0;32m/opt/homebrew/Caskroom/miniconda/base/envs/research/lib/python3.11/site-packages/matplotlib/figure.py:1747\u001b[0m, in \u001b[0;36mFigureBase.get_tightbbox\u001b[0;34m(self, renderer, bbox_extra_artists)\u001b[0m\n\u001b[1;32m   1743\u001b[0m \u001b[39mif\u001b[39;00m ax\u001b[39m.\u001b[39mget_visible():\n\u001b[1;32m   1744\u001b[0m     \u001b[39m# some axes don't take the bbox_extra_artists kwarg so we\u001b[39;00m\n\u001b[1;32m   1745\u001b[0m     \u001b[39m# need this conditional....\u001b[39;00m\n\u001b[1;32m   1746\u001b[0m     \u001b[39mtry\u001b[39;00m:\n\u001b[0;32m-> 1747\u001b[0m         bbox \u001b[39m=\u001b[39m ax\u001b[39m.\u001b[39;49mget_tightbbox(\n\u001b[1;32m   1748\u001b[0m             renderer, bbox_extra_artists\u001b[39m=\u001b[39;49mbbox_extra_artists)\n\u001b[1;32m   1749\u001b[0m     \u001b[39mexcept\u001b[39;00m \u001b[39mTypeError\u001b[39;00m:\n\u001b[1;32m   1750\u001b[0m         bbox \u001b[39m=\u001b[39m ax\u001b[39m.\u001b[39mget_tightbbox(renderer)\n",
      "File \u001b[0;32m/opt/homebrew/Caskroom/miniconda/base/envs/research/lib/python3.11/site-packages/matplotlib/axes/_base.py:4424\u001b[0m, in \u001b[0;36m_AxesBase.get_tightbbox\u001b[0;34m(self, renderer, call_axes_locator, bbox_extra_artists, for_layout_only)\u001b[0m\n\u001b[1;32m   4422\u001b[0m         \u001b[39mif\u001b[39;00m ba:\n\u001b[1;32m   4423\u001b[0m             bb\u001b[39m.\u001b[39mappend(ba)\n\u001b[0;32m-> 4424\u001b[0m \u001b[39mself\u001b[39;49m\u001b[39m.\u001b[39;49m_update_title_position(renderer)\n\u001b[1;32m   4425\u001b[0m axbbox \u001b[39m=\u001b[39m \u001b[39mself\u001b[39m\u001b[39m.\u001b[39mget_window_extent(renderer)\n\u001b[1;32m   4426\u001b[0m bb\u001b[39m.\u001b[39mappend(axbbox)\n",
      "File \u001b[0;32m/opt/homebrew/Caskroom/miniconda/base/envs/research/lib/python3.11/site-packages/matplotlib/axes/_base.py:3008\u001b[0m, in \u001b[0;36m_AxesBase._update_title_position\u001b[0;34m(self, renderer)\u001b[0m\n\u001b[1;32m   3006\u001b[0m top \u001b[39m=\u001b[39m \u001b[39mmax\u001b[39m(top, bb\u001b[39m.\u001b[39mymax)\n\u001b[1;32m   3007\u001b[0m \u001b[39mif\u001b[39;00m title\u001b[39m.\u001b[39mget_text():\n\u001b[0;32m-> 3008\u001b[0m     ax\u001b[39m.\u001b[39;49myaxis\u001b[39m.\u001b[39;49mget_tightbbox(renderer)  \u001b[39m# update offsetText\u001b[39;00m\n\u001b[1;32m   3009\u001b[0m     \u001b[39mif\u001b[39;00m ax\u001b[39m.\u001b[39myaxis\u001b[39m.\u001b[39moffsetText\u001b[39m.\u001b[39mget_text():\n\u001b[1;32m   3010\u001b[0m         bb \u001b[39m=\u001b[39m ax\u001b[39m.\u001b[39myaxis\u001b[39m.\u001b[39moffsetText\u001b[39m.\u001b[39mget_tightbbox(renderer)\n",
      "File \u001b[0;32m/opt/homebrew/Caskroom/miniconda/base/envs/research/lib/python3.11/site-packages/matplotlib/axis.py:1251\u001b[0m, in \u001b[0;36mAxis.get_tightbbox\u001b[0;34m(self, renderer, for_layout_only)\u001b[0m\n\u001b[1;32m   1249\u001b[0m \u001b[39mif\u001b[39;00m renderer \u001b[39mis\u001b[39;00m \u001b[39mNone\u001b[39;00m:\n\u001b[1;32m   1250\u001b[0m     renderer \u001b[39m=\u001b[39m \u001b[39mself\u001b[39m\u001b[39m.\u001b[39mfigure\u001b[39m.\u001b[39m_get_renderer()\n\u001b[0;32m-> 1251\u001b[0m ticks_to_draw \u001b[39m=\u001b[39m \u001b[39mself\u001b[39;49m\u001b[39m.\u001b[39;49m_update_ticks()\n\u001b[1;32m   1253\u001b[0m \u001b[39mself\u001b[39m\u001b[39m.\u001b[39m_update_label_position(renderer)\n\u001b[1;32m   1255\u001b[0m \u001b[39m# go back to just this axis's tick labels\u001b[39;00m\n",
      "File \u001b[0;32m/opt/homebrew/Caskroom/miniconda/base/envs/research/lib/python3.11/site-packages/matplotlib/axis.py:1190\u001b[0m, in \u001b[0;36mAxis._update_ticks\u001b[0;34m(self)\u001b[0m\n\u001b[1;32m   1185\u001b[0m \u001b[39mdef\u001b[39;00m \u001b[39m_update_ticks\u001b[39m(\u001b[39mself\u001b[39m):\n\u001b[1;32m   1186\u001b[0m \u001b[39m    \u001b[39m\u001b[39m\"\"\"\u001b[39;00m\n\u001b[1;32m   1187\u001b[0m \u001b[39m    Update ticks (position and labels) using the current data interval of\u001b[39;00m\n\u001b[1;32m   1188\u001b[0m \u001b[39m    the axes.  Return the list of ticks that will be drawn.\u001b[39;00m\n\u001b[1;32m   1189\u001b[0m \u001b[39m    \"\"\"\u001b[39;00m\n\u001b[0;32m-> 1190\u001b[0m     major_locs \u001b[39m=\u001b[39m \u001b[39mself\u001b[39;49m\u001b[39m.\u001b[39;49mget_majorticklocs()\n\u001b[1;32m   1191\u001b[0m     major_labels \u001b[39m=\u001b[39m \u001b[39mself\u001b[39m\u001b[39m.\u001b[39mmajor\u001b[39m.\u001b[39mformatter\u001b[39m.\u001b[39mformat_ticks(major_locs)\n\u001b[1;32m   1192\u001b[0m     major_ticks \u001b[39m=\u001b[39m \u001b[39mself\u001b[39m\u001b[39m.\u001b[39mget_major_ticks(\u001b[39mlen\u001b[39m(major_locs))\n",
      "File \u001b[0;32m/opt/homebrew/Caskroom/miniconda/base/envs/research/lib/python3.11/site-packages/matplotlib/axis.py:1416\u001b[0m, in \u001b[0;36mAxis.get_majorticklocs\u001b[0;34m(self)\u001b[0m\n\u001b[1;32m   1414\u001b[0m \u001b[39mdef\u001b[39;00m \u001b[39mget_majorticklocs\u001b[39m(\u001b[39mself\u001b[39m):\n\u001b[1;32m   1415\u001b[0m \u001b[39m    \u001b[39m\u001b[39m\"\"\"Return this Axis' major tick locations in data coordinates.\"\"\"\u001b[39;00m\n\u001b[0;32m-> 1416\u001b[0m     \u001b[39mreturn\u001b[39;00m \u001b[39mself\u001b[39;49m\u001b[39m.\u001b[39;49mmajor\u001b[39m.\u001b[39;49mlocator()\n",
      "File \u001b[0;32m/opt/homebrew/Caskroom/miniconda/base/envs/research/lib/python3.11/site-packages/matplotlib/ticker.py:2143\u001b[0m, in \u001b[0;36mMaxNLocator.__call__\u001b[0;34m(self)\u001b[0m\n\u001b[1;32m   2141\u001b[0m \u001b[39mdef\u001b[39;00m \u001b[39m__call__\u001b[39m(\u001b[39mself\u001b[39m):\n\u001b[1;32m   2142\u001b[0m     vmin, vmax \u001b[39m=\u001b[39m \u001b[39mself\u001b[39m\u001b[39m.\u001b[39maxis\u001b[39m.\u001b[39mget_view_interval()\n\u001b[0;32m-> 2143\u001b[0m     \u001b[39mreturn\u001b[39;00m \u001b[39mself\u001b[39;49m\u001b[39m.\u001b[39;49mtick_values(vmin, vmax)\n",
      "File \u001b[0;32m/opt/homebrew/Caskroom/miniconda/base/envs/research/lib/python3.11/site-packages/matplotlib/ticker.py:2151\u001b[0m, in \u001b[0;36mMaxNLocator.tick_values\u001b[0;34m(self, vmin, vmax)\u001b[0m\n\u001b[1;32m   2148\u001b[0m     vmin \u001b[39m=\u001b[39m \u001b[39m-\u001b[39mvmax\n\u001b[1;32m   2149\u001b[0m vmin, vmax \u001b[39m=\u001b[39m mtransforms\u001b[39m.\u001b[39mnonsingular(\n\u001b[1;32m   2150\u001b[0m     vmin, vmax, expander\u001b[39m=\u001b[39m\u001b[39m1e-13\u001b[39m, tiny\u001b[39m=\u001b[39m\u001b[39m1e-14\u001b[39m)\n\u001b[0;32m-> 2151\u001b[0m locs \u001b[39m=\u001b[39m \u001b[39mself\u001b[39;49m\u001b[39m.\u001b[39;49m_raw_ticks(vmin, vmax)\n\u001b[1;32m   2153\u001b[0m prune \u001b[39m=\u001b[39m \u001b[39mself\u001b[39m\u001b[39m.\u001b[39m_prune\n\u001b[1;32m   2154\u001b[0m \u001b[39mif\u001b[39;00m prune \u001b[39m==\u001b[39m \u001b[39m'\u001b[39m\u001b[39mlower\u001b[39m\u001b[39m'\u001b[39m:\n",
      "File \u001b[0;32m/opt/homebrew/Caskroom/miniconda/base/envs/research/lib/python3.11/site-packages/matplotlib/ticker.py:2090\u001b[0m, in \u001b[0;36mMaxNLocator._raw_ticks\u001b[0;34m(self, vmin, vmax)\u001b[0m\n\u001b[1;32m   2088\u001b[0m \u001b[39mif\u001b[39;00m \u001b[39mself\u001b[39m\u001b[39m.\u001b[39m_nbins \u001b[39m==\u001b[39m \u001b[39m'\u001b[39m\u001b[39mauto\u001b[39m\u001b[39m'\u001b[39m:\n\u001b[1;32m   2089\u001b[0m     \u001b[39mif\u001b[39;00m \u001b[39mself\u001b[39m\u001b[39m.\u001b[39maxis \u001b[39mis\u001b[39;00m \u001b[39mnot\u001b[39;00m \u001b[39mNone\u001b[39;00m:\n\u001b[0;32m-> 2090\u001b[0m         nbins \u001b[39m=\u001b[39m np\u001b[39m.\u001b[39;49mclip(\u001b[39mself\u001b[39;49m\u001b[39m.\u001b[39;49maxis\u001b[39m.\u001b[39;49mget_tick_space(),\n\u001b[1;32m   2091\u001b[0m                         \u001b[39mmax\u001b[39;49m(\u001b[39m1\u001b[39;49m, \u001b[39mself\u001b[39;49m\u001b[39m.\u001b[39;49m_min_n_ticks \u001b[39m-\u001b[39;49m \u001b[39m1\u001b[39;49m), \u001b[39m9\u001b[39;49m)\n\u001b[1;32m   2092\u001b[0m     \u001b[39melse\u001b[39;00m:\n\u001b[1;32m   2093\u001b[0m         nbins \u001b[39m=\u001b[39m \u001b[39m9\u001b[39m\n",
      "File \u001b[0;32m<__array_function__ internals>:200\u001b[0m, in \u001b[0;36mclip\u001b[0;34m(*args, **kwargs)\u001b[0m\n",
      "File \u001b[0;32m/opt/homebrew/Caskroom/miniconda/base/envs/research/lib/python3.11/site-packages/numpy/core/fromnumeric.py:2180\u001b[0m, in \u001b[0;36mclip\u001b[0;34m(a, a_min, a_max, out, **kwargs)\u001b[0m\n\u001b[1;32m   2111\u001b[0m \u001b[39m@array_function_dispatch\u001b[39m(_clip_dispatcher)\n\u001b[1;32m   2112\u001b[0m \u001b[39mdef\u001b[39;00m \u001b[39mclip\u001b[39m(a, a_min, a_max, out\u001b[39m=\u001b[39m\u001b[39mNone\u001b[39;00m, \u001b[39m*\u001b[39m\u001b[39m*\u001b[39mkwargs):\n\u001b[1;32m   2113\u001b[0m \u001b[39m    \u001b[39m\u001b[39m\"\"\"\u001b[39;00m\n\u001b[1;32m   2114\u001b[0m \u001b[39m    Clip (limit) the values in an array.\u001b[39;00m\n\u001b[1;32m   2115\u001b[0m \n\u001b[0;32m   (...)\u001b[0m\n\u001b[1;32m   2178\u001b[0m \n\u001b[1;32m   2179\u001b[0m \u001b[39m    \"\"\"\u001b[39;00m\n\u001b[0;32m-> 2180\u001b[0m     \u001b[39mreturn\u001b[39;00m _wrapfunc(a, \u001b[39m'\u001b[39;49m\u001b[39mclip\u001b[39;49m\u001b[39m'\u001b[39;49m, a_min, a_max, out\u001b[39m=\u001b[39;49mout, \u001b[39m*\u001b[39;49m\u001b[39m*\u001b[39;49mkwargs)\n",
      "File \u001b[0;32m/opt/homebrew/Caskroom/miniconda/base/envs/research/lib/python3.11/site-packages/numpy/core/fromnumeric.py:54\u001b[0m, in \u001b[0;36m_wrapfunc\u001b[0;34m(obj, method, *args, **kwds)\u001b[0m\n\u001b[1;32m     52\u001b[0m bound \u001b[39m=\u001b[39m \u001b[39mgetattr\u001b[39m(obj, method, \u001b[39mNone\u001b[39;00m)\n\u001b[1;32m     53\u001b[0m \u001b[39mif\u001b[39;00m bound \u001b[39mis\u001b[39;00m \u001b[39mNone\u001b[39;00m:\n\u001b[0;32m---> 54\u001b[0m     \u001b[39mreturn\u001b[39;00m _wrapit(obj, method, \u001b[39m*\u001b[39;49margs, \u001b[39m*\u001b[39;49m\u001b[39m*\u001b[39;49mkwds)\n\u001b[1;32m     56\u001b[0m \u001b[39mtry\u001b[39;00m:\n\u001b[1;32m     57\u001b[0m     \u001b[39mreturn\u001b[39;00m bound(\u001b[39m*\u001b[39margs, \u001b[39m*\u001b[39m\u001b[39m*\u001b[39mkwds)\n",
      "File \u001b[0;32m/opt/homebrew/Caskroom/miniconda/base/envs/research/lib/python3.11/site-packages/numpy/core/fromnumeric.py:43\u001b[0m, in \u001b[0;36m_wrapit\u001b[0;34m(obj, method, *args, **kwds)\u001b[0m\n\u001b[1;32m     41\u001b[0m \u001b[39mexcept\u001b[39;00m \u001b[39mAttributeError\u001b[39;00m:\n\u001b[1;32m     42\u001b[0m     wrap \u001b[39m=\u001b[39m \u001b[39mNone\u001b[39;00m\n\u001b[0;32m---> 43\u001b[0m result \u001b[39m=\u001b[39m \u001b[39mgetattr\u001b[39;49m(asarray(obj), method)(\u001b[39m*\u001b[39;49margs, \u001b[39m*\u001b[39;49m\u001b[39m*\u001b[39;49mkwds)\n\u001b[1;32m     44\u001b[0m \u001b[39mif\u001b[39;00m wrap:\n\u001b[1;32m     45\u001b[0m     \u001b[39mif\u001b[39;00m \u001b[39mnot\u001b[39;00m \u001b[39misinstance\u001b[39m(result, mu\u001b[39m.\u001b[39mndarray):\n",
      "File \u001b[0;32m/opt/homebrew/Caskroom/miniconda/base/envs/research/lib/python3.11/site-packages/numpy/core/_methods.py:136\u001b[0m, in \u001b[0;36m_clip\u001b[0;34m(a, min, max, out, casting, **kwargs)\u001b[0m\n\u001b[1;32m    134\u001b[0m \u001b[39mif\u001b[39;00m \u001b[39mnot\u001b[39;00m _clip_dep_is_byte_swapped(a) \u001b[39mand\u001b[39;00m \u001b[39mnot\u001b[39;00m _clip_dep_is_byte_swapped(out):\n\u001b[1;32m    135\u001b[0m     using_deprecated_nan \u001b[39m=\u001b[39m \u001b[39mFalse\u001b[39;00m\n\u001b[0;32m--> 136\u001b[0m     \u001b[39mif\u001b[39;00m _clip_dep_is_scalar_nan(\u001b[39mmin\u001b[39;49m):\n\u001b[1;32m    137\u001b[0m         \u001b[39mmin\u001b[39m \u001b[39m=\u001b[39m \u001b[39m-\u001b[39m\u001b[39mfloat\u001b[39m(\u001b[39m'\u001b[39m\u001b[39minf\u001b[39m\u001b[39m'\u001b[39m)\n\u001b[1;32m    138\u001b[0m         using_deprecated_nan \u001b[39m=\u001b[39m \u001b[39mTrue\u001b[39;00m\n",
      "File \u001b[0;32m/opt/homebrew/Caskroom/miniconda/base/envs/research/lib/python3.11/site-packages/numpy/core/_methods.py:96\u001b[0m, in \u001b[0;36m_clip_dep_is_scalar_nan\u001b[0;34m(a)\u001b[0m\n\u001b[1;32m     93\u001b[0m \u001b[39mdef\u001b[39;00m \u001b[39m_clip_dep_is_scalar_nan\u001b[39m(a):\n\u001b[1;32m     94\u001b[0m     \u001b[39m# guarded to protect circular imports\u001b[39;00m\n\u001b[1;32m     95\u001b[0m     \u001b[39mfrom\u001b[39;00m \u001b[39mnumpy\u001b[39;00m\u001b[39m.\u001b[39;00m\u001b[39mcore\u001b[39;00m\u001b[39m.\u001b[39;00m\u001b[39mfromnumeric\u001b[39;00m \u001b[39mimport\u001b[39;00m ndim\n\u001b[0;32m---> 96\u001b[0m     \u001b[39mif\u001b[39;00m ndim(a) \u001b[39m!=\u001b[39m \u001b[39m0\u001b[39m:\n\u001b[1;32m     97\u001b[0m         \u001b[39mreturn\u001b[39;00m \u001b[39mFalse\u001b[39;00m\n\u001b[1;32m     98\u001b[0m     \u001b[39mtry\u001b[39;00m:\n",
      "File \u001b[0;32m<__array_function__ internals>:200\u001b[0m, in \u001b[0;36mndim\u001b[0;34m(*args, **kwargs)\u001b[0m\n",
      "\u001b[0;31mKeyboardInterrupt\u001b[0m: "
     ]
    },
    {
     "data": {
      "image/png": "[encoded data removed]",
      "text/plain": [
       "<Figure size 1000x500 with 1 Axes>"
      ]
     },
     "metadata": {},
     "output_type": "display_data"
    }
   ],
   "source": [
    "class LModel(nn.Module):\n",
    "    def __init__(self, vocab_size):\n",
    "        super().__init__()\n",
    "        self.vocab_size = vocab_size\n",
    "\n",
    "    @property\n",
    "    def device(self):\n",
    "        return next(self.parameters()).device\n",
    "    \n",
    "    def forward(self, x: torch.Tensor) -> torch.Tensor:\n",
    "        raise NotImplementedError\n",
    "\n",
    "    def generate(self, max_len: int = 100) -> List[int]:\n",
    "        \"\"\"Generates a language output from the model\"\"\"\n",
    "        out = []\n",
    "        for i in range(max_len):\n",
    "            # setup tensor for generation\n",
    "            prev = torch.tensor((([0] * block_size) + out)[-block_size:], device=self.device, dtype=torch.long).view(1, -1)\n",
    "            # compute logits\n",
    "            logits = self.forward(prev)\n",
    "            # get the last logits and convert to prob\n",
    "            logits = logits[:, -1]\n",
    "            probs = F.softmax(logits, dim=-1)\n",
    "            # sample from the distribution\n",
    "            sample = torch.multinomial(probs, 1)\n",
    "            # append to output\n",
    "            out.append(sample.detach().cpu().item())\n",
    "        \n",
    "        return out\n",
    "    \n",
    "    def generate_str(self, max_len: int = 100) -> str:\n",
    "        \"\"\"Generates a language output from the model\"\"\"\n",
    "        return \"\".join([idx2char[idx] for idx in self.generate(max_len=max_len)])\n",
    "\n",
    "class BigramLM(LModel):\n",
    "    def __init__(self, vocab_size, emb_size=128):\n",
    "        super().__init__(vocab_size)\n",
    "\n",
    "        # define the embedding layer\n",
    "        self.embedding = nn.Embedding(vocab_size, emb_size) # (vocab_size, emb_size)\n",
    "        self.pos_embedding = nn.Embedding(block_size, emb_size) # (block_size, emb_size)\n",
    "        self.lm_head = nn.Linear(emb_size, vocab_size) # (emb_size, vocab_size)\n",
    "    \n",
    "    def forward(self, x):\n",
    "        # validate device\n",
    "        if self.device != x.device:\n",
    "            x = x.to(self.device)\n",
    "\n",
    "        # get ids\n",
    "        B, T = x.shape\n",
    "\n",
    "        # retrieve the embeddings\n",
    "        chars = self.embedding(x) # (B, block_size, emb_size)\n",
    "        pos = self.pos_embedding(torch.arange(T, device=x.device))  # (block_size, emb_size) - will be broadcases to (B, block_size, emb_size)\n",
    "        # add embeddings\n",
    "        embs = chars + pos # (B, block_size, emb_size)\n",
    "\n",
    "        # compute logits (push it to vocab_size)\n",
    "        # NOTE: we treat each B*block_size element as an independent example for which we predict the output\n",
    "        logits = self.lm_head(embs) # (B, block_size, vocab_size)\n",
    "        return logits\n",
    "    \n",
    "    def loss(self, x, y):\n",
    "        # validate device\n",
    "        if self.device != y.device:\n",
    "            y = y.to(self.device)\n",
    "\n",
    "        # compute the logits\n",
    "        logits = self.forward(x)  # (B, block_size, vocab_size)\n",
    "\n",
    "        # requires a reshape from (B, T, vocab_size) to (B*block_size, vocab_size)\n",
    "        logits = logits.view(-1, self.vocab_size)\n",
    "        target = y.reshape(-1) # (B*block_size)\n",
    "\n",
    "        # compute the loss\n",
    "        loss = F.cross_entropy(logits, target) # (B*block_size, vocab_size), (B*block_size)\n",
    "        return loss\n",
    "\n",
    "# create model and test\n",
    "#dev = \"cpu\"\n",
    "dev = torch_device\n",
    "vocab_size = len(chars)\n",
    "model = BigramLM(vocab_size)\n",
    "model.to(dev)\n",
    "x, y = random_batch(train_data, block_size, batch_size)\n",
    "#bx, by = random_batch(x, y)\n",
    "loss = model.loss(x.to(dev), y.to(dev))\n",
    "print(f\"Loss: {loss}\")\n",
    "print(f\"Generated: {model.generate_str()}\")\n",
    "\n",
    "# create interactive loss plot\n",
    "from IPython.display import clear_output\n",
    "\n",
    "def train_model(model, lr, batches=400):\n",
    "    # create the plot\n",
    "    fig, ax = plt.subplots(1, 1, figsize=(10, 5))\n",
    "    ax.set_xlabel(\"Batch\")\n",
    "    ax.set_ylabel(\"Loss\")\n",
    "    ax.set_title(\"Training loss\")\n",
    "\n",
    "    # train the model\n",
    "    optim = torch.optim.Adam(model.parameters(), lr=lr)\n",
    "    for epoch in range(batches):\n",
    "        bx, by = random_batch(train_data, block_size, batch_size)\n",
    "        loss = model.loss(bx, by)\n",
    "        loss.backward()\n",
    "        optim.step()\n",
    "        optim.zero_grad()\n",
    "\n",
    "        # plot the loss as a line\n",
    "        ax.set_title(f\"Training loss (batch {epoch}/{batches})\")\n",
    "        ax.plot(epoch, loss.item(), \"r.\")\n",
    "        clear_output(wait=True)\n",
    "        display(fig)\n",
    "\n",
    "    # generate test loss\n",
    "    tx, ty = random_batch(test_data, block_size, 100)\n",
    "    test_loss = model.loss(tx, ty)\n",
    "    print(f\"Test Loss: {test_loss}\")\n",
    "\n",
    "train_model(model, .1)\n"
   ]
  },
  {
   "attachments": {},
   "cell_type": "markdown",
   "metadata": {},
   "source": [
    "**Self Attention**\n",
    "\n",
    "We want to define a self attention head step by step:"
   ]
  },
  {
   "cell_type": "code",
   "execution_count": 9,
   "metadata": {},
   "outputs": [
    {
     "name": "stdout",
     "output_type": "stream",
     "text": [
      "torch.Size([4, 8, 8])\n",
      "score q: torch.Size([4, 8, 16])\n",
      "score tp: torch.Size([4, 16, 8])\n",
      "Diff is: True | 1.0989606380462646e-05\n",
      "-- Out --\n",
      "torch.Size([4, 8, 16])\n"
     ]
    }
   ],
   "source": [
    "channels = 32\n",
    "head_size = 16\n",
    "\n",
    "# define the input\n",
    "x = torch.randn(batch_size, block_size, channels)  # (B, T, C)\n",
    "\n",
    "# define the key and query vectors\n",
    "k = nn.Linear(channels, head_size)  # (C, H) - Weigths\n",
    "q = nn.Linear(channels, head_size)  # (C, H) - Weights\n",
    "v = nn.Linear(channels, head_size)  # (C, H) - Weights\n",
    "\n",
    "# generate the embedding vectors\n",
    "xk = k(x)   # (B, T, H)\n",
    "xq = q(x)   # (B, T, H)\n",
    "\n",
    "# compute score manually\n",
    "# NOTE: score should generate a vector of shape (T) for each batch element (so (B, T))\n",
    "mscore = torch.zeros((batch_size, block_size, block_size), dtype=torch.float32)\n",
    "for b in range(batch_size):\n",
    "    for t in range(block_size):\n",
    "        # compute the score for the current time step\n",
    "        for r in range(t+1):\n",
    "            mscore[b, t, r] = xq[b, t, :].dot(xk[b, r, :])\n",
    "print(mscore.shape)\n",
    "\n",
    "print(f\"score q: {xq.shape}\")\n",
    "print(f\"score tp: {xk.transpose(-1, -2).shape}\")\n",
    "wei = xq @ xk.transpose(-1, -2)  # (B, T, T) - Multiply along the embedding dimension (B, T, H) @ (B, H, T) -> (B, T, T)\n",
    "\n",
    "# apply tril mask\n",
    "tril = torch.tril(torch.ones((block_size, block_size), dtype=torch.float32))\n",
    "score = wei.masked_fill(tril == 0, 0)\n",
    "wei = wei.masked_fill(tril == 0, float('-inf'))\n",
    "# divide by key data length (used for more stable gradients)\n",
    "# NOTE: this will stabilize gradients of softmax\n",
    "wei = wei / head_size**-.5 #np.sqrt(head_size)\n",
    "wei = F.softmax(wei, dim=-1)\n",
    "\n",
    "xv = v(x)  # (B, T, H)\n",
    "out = wei @ xv\n",
    "#score = (xq * xk).sum(-1)  # (B, T)\n",
    "#print(score.shape)\n",
    "\n",
    "print(f\"Diff is: {torch.allclose(mscore, score)} | {(mscore - score).abs().sum()}\")\n",
    "#assert torch.allclose(mscore, score)\n",
    "\n",
    "print(\"-- Out --\")\n",
    "print(out.shape)"
   ]
  },
  {
   "cell_type": "code",
   "execution_count": null,
   "metadata": {},
   "outputs": [
    {
     "name": "stdout",
     "output_type": "stream",
     "text": [
      "tensor([ 0.4890,  1.3978, -1.7767, -1.0115, -0.7913,  1.5773, -0.3905,  0.9305,\n",
      "         0.0793, -1.4430])\n",
      "tensor([0.1017, 0.2523, 0.0106, 0.0227, 0.0283, 0.3019, 0.0422, 0.1581, 0.0675,\n",
      "        0.0147])\n",
      "tensor([1.3314e-04, 1.9130e-01, 1.7874e-12, 8.1487e-10, 4.7433e-09, 8.0401e-01,\n",
      "        1.1706e-07, 4.5519e-03, 5.0215e-06, 2.5813e-11])\n"
     ]
    }
   ],
   "source": [
    "# test softmax variance and peakyness\n",
    "x = torch.randn(10)\n",
    "print(x)\n",
    "print(F.softmax(x, dim=-1))\n",
    "print(F.softmax(x*8, dim=-1))\n",
    "\n",
    "# Notice that this pushes more weight into the highest element (since the math behind softmax is exponential)"
   ]
  },
  {
   "cell_type": "code",
   "execution_count": 10,
   "metadata": {},
   "outputs": [
    {
     "data": {
      "image/png": "[encoded data removed]",
      "text/plain": [
       "<Figure size 1000x500 with 1 Axes>"
      ]
     },
     "metadata": {},
     "output_type": "display_data"
    },
    {
     "name": "stdout",
     "output_type": "stream",
     "text": [
      "Test Loss: 2.815680980682373\n"
     ]
    },
    {
     "data": {
      "image/png": "[encoded data removed]",
      "text/plain": [
       "<Figure size 1000x500 with 1 Axes>"
      ]
     },
     "metadata": {},
     "output_type": "display_data"
    }
   ],
   "source": [
    "# create an attention head module\n",
    "class AttentionHead(nn.Module):\n",
    "    def __init__(self, emb_size: int, head_size: int, encoder: bool):\n",
    "        super().__init__()\n",
    "        self.emb_size = emb_size\n",
    "        self.head_size = head_size\n",
    "        self.encoder = encoder\n",
    "\n",
    "        # define the key, query, and value vectors\n",
    "        self.k = nn.Linear(emb_size, head_size)\n",
    "        self.q = nn.Linear(emb_size, head_size)\n",
    "        self.v = nn.Linear(emb_size, head_size)\n",
    "\n",
    "        # create register buffer for the tril\n",
    "        self.register_buffer(\"tril\", torch.tril(torch.ones((block_size, block_size), dtype=torch.float32)))\n",
    "    \n",
    "    def forward(self, x):\n",
    "        # compute key and query vectors\n",
    "        xk = self.k(x)  # (B, T, H)\n",
    "        xq = self.q(x)  # (B, T, H)\n",
    "\n",
    "        # compute weight by transpose and matmul product\n",
    "        wei = xq @ xk.transpose(-1, -2)\n",
    "\n",
    "        # apply tril mask\n",
    "        if self.encoder:\n",
    "            wei = wei.masked_fill(self.tril == 0, float('-inf'))\n",
    "        \n",
    "        # normalize data and apply softmax\n",
    "        xv = self.v(x)  # (B, T, H)\n",
    "        out = F.softmax(wei / self.head_size**-.5, dim=-1) @ xv\n",
    "\n",
    "        return out\n",
    "\n",
    "\n",
    "class MultiAttentionHead(nn.Module):\n",
    "    def __init__(self, num_heads: int, emb_size: int, head_size: int, encoders: bool) -> None:\n",
    "        super().__init__()\n",
    "\n",
    "        self.heads = nn.ModuleList([AttentionHead(emb_size, head_size, encoder=encoders) for _ in range(num_heads)])\n",
    "    \n",
    "    def forward(self, x):\n",
    "        # compute the attention for each head\n",
    "        outs = [head(x) for head in self.heads]\n",
    "\n",
    "        # concatenate the outputs\n",
    "        out = torch.cat(outs, dim=-1)\n",
    "\n",
    "        return out\n",
    "\n",
    "\n",
    "# build a model around the attention head\n",
    "class TransformerLight(LModel):\n",
    "    def __init__(self, vocab_size, emb_size=128):\n",
    "        super().__init__(vocab_size)\n",
    "\n",
    "        # define the embedding layer\n",
    "        self.embedding = nn.Embedding(vocab_size, emb_size)\n",
    "        self.pos_embedding = nn.Embedding(block_size, emb_size)\n",
    "        # self.att_head = AttentionHead(emb_size, vocab_size, encoder=True)\n",
    "        heads = 4\n",
    "        #inner_emb = emb_size // heads\n",
    "        self.multi_head = MultiAttentionHead(heads, emb_size, emb_size, encoders=True)\n",
    "        self.lm_head = nn.Linear(emb_size * heads, vocab_size)\n",
    "    \n",
    "    def forward(self, x):\n",
    "        # validate device\n",
    "        if self.device != x.device:\n",
    "            x = x.to(self.device)\n",
    "\n",
    "        # get ids\n",
    "        B, T = x.shape\n",
    "\n",
    "        # retrieve the embeddings\n",
    "        chars = self.embedding(x)\n",
    "        pos = self.pos_embedding(torch.arange(T, device=x.device))\n",
    "        # add embeddings\n",
    "        embs = chars + pos\n",
    "\n",
    "        # compute logits\n",
    "        att = self.multi_head(embs)\n",
    "        logits = self.lm_head(att)\n",
    "        return logits\n",
    "    \n",
    "    def loss(self, x, y):\n",
    "        # validate device\n",
    "        if self.device != y.device:\n",
    "            y = y.to(self.device)\n",
    "\n",
    "        # compute the logits\n",
    "        logits = self.forward(x)\n",
    "\n",
    "        # requires a reshape from (B, T, vocab_size) to (B*T, vocab_size)\n",
    "        logits = logits.view(-1, self.vocab_size)\n",
    "        target = y.view(-1)\n",
    "\n",
    "        # compute the loss\n",
    "        loss = F.cross_entropy(logits, target)\n",
    "        return loss\n",
    "    \n",
    "\n",
    "# create the model\n",
    "model = TransformerLight(vocab_size, emb_size=128)\n",
    "model.to(torch_device)\n",
    "\n",
    "# train model\n",
    "train_model(model, .001, batches=1000)"
   ]
  },
  {
   "cell_type": "code",
   "execution_count": 11,
   "metadata": {},
   "outputs": [
    {
     "name": "stdout",
     "output_type": "stream",
     "text": [
      "An ss Ekineivy is toharxsinlo his dy,  bevsrsenofaro Lsl'ns: sfrt;arse lve mbinli tk o sry aarcyone \n",
      "RE'se fwl'srt ak'se gm rogho.\n",
      "Thir\n",
      "T.\n",
      "Histhermelul.\n",
      "\n",
      "xhisthel goMems ally rgrmo yrvk bell fy shes ss\n",
      "I rt dpevsbivarmeras a nck. tn.\n",
      "bm hanedranove thsI krg  ds; akle ma sO hshtlcs tsh, h:\n",
      "\n",
      "t aavast, v\n",
      "HayoNome wf-boul.\n",
      "Huks aves wmenaimarql md ye sutav-s lll Abay b,\n",
      "A nacpaj isus bebl mthehe boy.\n",
      "\n",
      "l-\n",
      "Ano IO:\n",
      "Hhl han gjerswoyrl tfas .\n",
      "pr\n",
      "T ICHehe cyrtst an methrainn.\n",
      "\n",
      "YyoEir lve ge; ipt re wssl jak m\n",
      "Hice.\n",
      "Wheandeeppe,\n",
      "Henelall othadt; k sbes;tirl f ha sbmanr Vn tp armellle is vss isorllr s anthmeit\n",
      "\n",
      "Troug y as wance hw.Tis hmertlliss \n",
      "bo Dun shrvHonrno'st swllll sis wavtir st tsofor shly, a spsthi\n",
      "TERand doy to daw hs, lerl u ss toe enevean serdrcon Aveasu :\n",
      "l tt EAxd wMa whyitlel k bre l swendd \n",
      "Hethe Hmeben k sso tn ssm ang trrd n;orrs  sadoas.\n",
      "CAs ms sct bse abo amians tlo brrert dm gsme st s\n",
      "CAn\n",
      "INom y\n",
      "T:\n",
      "SIpivom louthand unr Hkstay s mtodes oBl bt cra.\n",
      "horl watenarris l ld, av ses CbeIe y \n"
     ]
    }
   ],
   "source": [
    "# generate some words\n",
    "for _ in range(10):\n",
    "    print(model.generate_str())"
   ]
  },
  {
   "cell_type": "markdown",
   "metadata": {},
   "source": []
  }
 ],
 "metadata": {
  "kernelspec": {
   "display_name": "research",
   "language": "python",
   "name": "python3"
  },
  "language_info": {
   "codemirror_mode": {
    "name": "ipython",
    "version": 3
   },
   "file_extension": ".py",
   "mimetype": "text/x-python",
   "name": "python",
   "nbconvert_exporter": "python",
   "pygments_lexer": "ipython3",
   "version": "3.11.0"
  },
  "orig_nbformat": 4,
  "vscode": {
   "interpreter": {
    "hash": "7fe1a4422759eafe6868ccc54152cc839a79337f6f12136ad2d52cc24128f952"
   }
  }
 },
 "nbformat": 4,
 "nbformat_minor": 2
}
